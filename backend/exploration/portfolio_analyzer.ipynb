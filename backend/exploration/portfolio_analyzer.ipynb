{
 "cells": [
  {
   "cell_type": "code",
   "execution_count": 3,
   "metadata": {},
   "outputs": [],
   "source": [
    "import json\n",
    "import yfinance as yf\n",
    "import pandas as pd\n",
    "import numpy as np"
   ]
  },
  {
   "cell_type": "code",
   "execution_count": 6,
   "metadata": {},
   "outputs": [],
   "source": [
    "class PortfolioAnalyzer:\n",
    "    def __init__(self, stocks, weights, start_date, end_date, initial_investment):\n",
    "        self.stocks = stocks \n",
    "        self.weights = weights\n",
    "        self.start_date = start_date\n",
    "        self.end_date = end_date\n",
    "        self.initial_investment = initial_investment\n",
    "        \n",
    "    def convert_data(self, data, round_digit=2):\n",
    "        result = []\n",
    "        for col in data.columns:\n",
    "            for index, row in data.iterrows():\n",
    "                result.append({\n",
    "                    \"index\": index,\n",
    "                    \"ticker\": col,\n",
    "                    \"value\": round(row[col], round_digit)\n",
    "                })\n",
    "        return json.dumps(result, indent=4)\n",
    "        \n",
    "    def download_price_data(self, convert_data=True):\n",
    "        data = yf.download(self.stocks, start=self.start_date,\n",
    "                           end=self.end_date)['Close']\n",
    "        # Convert datetime index to string dates (YYYY-MM-DD) for JSON serialization\n",
    "        data.index = [str(x.date()) for x in data.index]\n",
    "        return self.convert_data(data) if convert_data else data"
   ]
  },
  {
   "cell_type": "code",
   "execution_count": 38,
   "metadata": {},
   "outputs": [
    {
     "name": "stderr",
     "output_type": "stream",
     "text": [
      "[*********************100%***********************]  2 of 2 completed"
     ]
    },
    {
     "name": "stdout",
     "output_type": "stream",
     "text": [
      "winners {'tickers': ['MSFT', 'AAPL'], '7d_change': [np.float64(1.46), np.float64(-1.18)]}\n",
      "losers {'tickers': ['AAPL', 'MSFT'], '7d_change': [np.float64(-1.18), np.float64(1.46)]}\n"
     ]
    },
    {
     "name": "stderr",
     "output_type": "stream",
     "text": [
      "\n"
     ]
    }
   ],
   "source": [
    "price_data = yf.download(['AAPL', 'MSFT'], start=\"2023-01-01\", end=\"2023-12-31\")['Close']\n",
    "price_data\n",
    "\n",
    "weights = [0.5, 0.5]\n",
    "\n",
    "daily_returns = price_data.pct_change().dropna()\n",
    "cumprod_returns = (daily_returns+1).cumprod()\n",
    "initial_allocations = {ticker: 10000 * weight\n",
    "                       for ticker, weight in zip(['AAPL', 'MSFT'], weights)}\n",
    "init_series = pd.Series(initial_allocations)\n",
    "asset_values = cumprod_returns.multiply(init_series, axis=1)\n",
    "asset_values['Portfolio Value'] = asset_values.sum(axis=1)\n",
    "asset_values.index = pd.to_datetime(asset_values.index)\n",
    "asset_values\n",
    "\n",
    "overall_moves_7d = {}\n",
    "overall_moves_7d['ticker'] = []\n",
    "overall_moves_7d['7d_change'] = []\n",
    "ranking=3\n",
    "\n",
    "for x in asset_values.columns:\n",
    "    if x == 'Portfolio Value':\n",
    "        continue\n",
    "    \n",
    "    overall_moves_7d['ticker'] += [x]\n",
    "    overall_moves_7d['7d_change'] += [\n",
    "        round(100*(asset_values[x].iloc[-1] - asset_values[x].iloc[-7])/asset_values[x].iloc[-7], 2)]\n",
    "\n",
    "overall_moves_7d\n",
    "print(\"winners\",{\"tickers\": list(pd.DataFrame(overall_moves_7d).sort_values(by=\"7d_change\",ascending=False).iloc[:ranking]['ticker'].values),\n",
    "\"7d_change\": list(pd.DataFrame(overall_moves_7d).sort_values(by=\"7d_change\",ascending=False).iloc[:ranking]['7d_change'].values)\n",
    "        })\n",
    "print(\"losers\", {\"tickers\": list(pd.DataFrame(overall_moves_7d).sort_values(by=\"7d_change\", ascending=True).iloc[:ranking]['ticker'].values),\n",
    "                 \"7d_change\": list(pd.DataFrame(overall_moves_7d).sort_values(by=\"7d_change\", ascending=True).iloc[:ranking]['7d_change'].values)\n",
    "                 })"
   ]
  },
  {
   "cell_type": "code",
   "execution_count": 51,
   "metadata": {},
   "outputs": [
    {
     "name": "stderr",
     "output_type": "stream",
     "text": [
      "[*********************100%***********************]  2 of 2 completed\n"
     ]
    },
    {
     "data": {
      "text/plain": [
       "{'ticker': ['AAPL', 'MSFT'],\n",
       " '7d_change': [np.float64(-1.18), np.float64(1.46)]}"
      ]
     },
     "execution_count": 51,
     "metadata": {},
     "output_type": "execute_result"
    }
   ],
   "source": [
    "analyzer = PortfolioAnalyzer(['AAPL', 'MSFT'], [0.5, 0.5], '2023-01-01', '2023-12-31', 10000)\n",
    "price_data = analyzer.download_price_data(convert_data=False)\n",
    "\n",
    "daily_returns = price_data.pct_change().dropna()\n",
    "cumprod_returns = (daily_returns+1).cumprod()\n",
    "initial_allocations = {ticker: analyzer.initial_investment * weight\n",
    "                       for ticker, weight in zip(analyzer.stocks, analyzer.weights)}\n",
    "init_series = pd.Series(initial_allocations)\n",
    "asset_values = cumprod_returns.multiply(init_series, axis=1)\n",
    "asset_values['Portfolio Value'] = asset_values.sum(axis=1)\n",
    "asset_values.index = pd.to_datetime(asset_values.index)\n",
    "asset_values\n",
    "\n",
    "overall_moves_7d = {}\n",
    "overall_moves_7d['ticker'] = []\n",
    "overall_moves_7d['7d_change'] = []\n",
    "ranking = 3\n",
    "\n",
    "for x in asset_values.columns:\n",
    "    if x == 'Portfolio Value':\n",
    "        continue\n",
    "\n",
    "    overall_moves_7d['ticker'] += [x]\n",
    "    overall_moves_7d['7d_change'] += [\n",
    "        round(100*(asset_values[x].iloc[-1] - asset_values[x].iloc[-7])/asset_values[x].iloc[-7], 2)]\n",
    "\n",
    "overall_moves_7d\n",
    "# print(\"winners\", {\"tickers\": list(pd.DataFrame(overall_moves_7d).sort_values(by=\"7d_change\", ascending=False).iloc[:ranking]['ticker'].values),\n",
    "#                   \"7d_change\": list(pd.DataFrame(overall_moves_7d).sort_values(by=\"7d_change\", ascending=False).iloc[:ranking]['7d_change'].values)\n",
    "#                   })\n",
    "# print(\"losers\", {\"tickers\": list(pd.DataFrame(overall_moves_7d).sort_values(by=\"7d_change\", ascending=True).iloc[:ranking]['ticker'].values),\n",
    "#                  \"7d_change\": list(pd.DataFrame(overall_moves_7d).sort_values(by=\"7d_change\", ascending=True).iloc[:ranking]['7d_change'].values)\n",
    "#                  })"
   ]
  },
  {
   "cell_type": "code",
   "execution_count": 67,
   "metadata": {},
   "outputs": [
    {
     "name": "stderr",
     "output_type": "stream",
     "text": [
      "[*********************100%***********************]  5 of 5 completed"
     ]
    },
    {
     "name": "stdout",
     "output_type": "stream",
     "text": [
      "{'ticker': ['SPEM', 'IEFA'], '7d_change': [np.float64(3.42), np.float64(2.64)], 'latest_price': [np.float64(2456.301465804235), np.float64(2631.2878328896104)]}\n"
     ]
    },
    {
     "name": "stderr",
     "output_type": "stream",
     "text": [
      "\n"
     ]
    }
   ],
   "source": [
    "analyzer = PortfolioAnalyzer(\n",
    "    ['SPEM', 'IEFA', 'BBRE', 'IVV', 'BIV'], [0.2247, 0.225, 0.075, 0.23461, 0.24069], '2023-01-01', '2023-12-31', 10000)\n",
    "price_data = analyzer.download_price_data(convert_data=False)\n",
    "\n",
    "daily_returns = price_data.pct_change().dropna()\n",
    "cumprod_returns = (daily_returns+1).cumprod()\n",
    "initial_allocations = {ticker: analyzer.initial_investment * weight\n",
    "                       for ticker, weight in zip(analyzer.stocks, analyzer.weights)}\n",
    "init_series = pd.Series(initial_allocations)\n",
    "asset_values = cumprod_returns.multiply(init_series, axis=1)\n",
    "asset_values['Portfolio Value'] = asset_values.sum(axis=1)\n",
    "asset_values.index = pd.to_datetime(asset_values.index)\n",
    "asset_values\n",
    "\n",
    "top_movers = {}\n",
    "top_movers['ticker'] = []\n",
    "top_movers['latest_price'] = []\n",
    "top_movers['7d_change'] = []\n",
    "\n",
    "ranking=2\n",
    "\n",
    "for column in asset_values.columns:\n",
    "    if column == 'Portfolio Value':\n",
    "        continue\n",
    "    top_movers['ticker'].append(column)\n",
    "    top_movers['latest_price'].append(asset_values[column].iloc[-1])\n",
    "    top_movers['7d_change'].append(round(\n",
    "        (asset_values[column].iloc[-1] - asset_values[column].iloc[-7])/asset_values[column].iloc[-7] * 100, 2))\n",
    "\n",
    "df_top_movers = pd.DataFrame(top_movers).sort_values(by=\"7d_change\", ascending=False)\n",
    "\n",
    "top_movers = {\n",
    "    'ticker': list(df_top_movers.iloc[:ranking]['ticker'].values),\n",
    "    '7d_change': list(df_top_movers.iloc[:ranking]['7d_change'].values),\n",
    "    'latest_price': list(df_top_movers.iloc[:ranking]['latest_price'].values)\n",
    "}\n",
    "\n",
    "print(top_movers)"
   ]
  },
  {
   "cell_type": "code",
   "execution_count": null,
   "metadata": {},
   "outputs": [],
   "source": []
  }
 ],
 "metadata": {
  "kernelspec": {
   "display_name": "new_fyp_env",
   "language": "python",
   "name": "python3"
  },
  "language_info": {
   "codemirror_mode": {
    "name": "ipython",
    "version": 3
   },
   "file_extension": ".py",
   "mimetype": "text/x-python",
   "name": "python",
   "nbconvert_exporter": "python",
   "pygments_lexer": "ipython3",
   "version": "3.12.8"
  }
 },
 "nbformat": 4,
 "nbformat_minor": 2
}
